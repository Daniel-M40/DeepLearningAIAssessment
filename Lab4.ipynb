﻿{
 "cells": [
  {
   "cell_type": "code",
   "id": "initial_id",
   "metadata": {
    "collapsed": true,
    "ExecuteTime": {
     "end_time": "2025-03-02T10:49:42.233342Z",
     "start_time": "2025-03-02T10:49:38.675978Z"
    }
   },
   "source": [
    "import numpy as np\n",
    "import cv2\n",
    "import os\n",
    "import tensorflow as tf\n",
    "from tensorflow.keras import layers, models\n",
    "from sklearn.metrics import confusion_matrix\n",
    "import seaborn as sns\n",
    "import os\n",
    "import numpy as np\n",
    "import cv2\n",
    "import tensorflow as tf\n",
    "import matplotlib.pyplot as plt  # For displaying images side by side\n"
   ],
   "outputs": [],
   "execution_count": 1
  },
  {
   "metadata": {
    "ExecuteTime": {
     "end_time": "2025-03-02T10:49:46.640268Z",
     "start_time": "2025-03-02T10:49:46.569176Z"
    }
   },
   "cell_type": "code",
   "source": [
    "# Load Haar Cascade for face detection\n",
    "face_cascade = cv2.CascadeClassifier(\"haarcascade_frontalface_default.xml\")"
   ],
   "id": "50fa7489e489d917",
   "outputs": [],
   "execution_count": 2
  },
  {
   "metadata": {
    "ExecuteTime": {
     "end_time": "2025-03-02T10:49:48.939007Z",
     "start_time": "2025-03-02T10:49:48.930416Z"
    }
   },
   "cell_type": "code",
   "source": [
    "# Set image dimensions\n",
    "img_height, img_width = 48, 48  # input size\n",
    "\n",
    "def load_dataset(train_dir, test_dir):\n",
    "    def load_images(directory):\n",
    "        images = []\n",
    "        labels = []\n",
    "        expressions = ['anger', 'fear', 'happy', 'neutral', 'sadness', 'surprise']  # 6 emotion classes\n",
    "        for label, expression in enumerate(expressions):\n",
    "            expression_folder = os.path.join(directory, expression)\n",
    "            if not os.path.exists(expression_folder):\n",
    "                continue\n",
    "            for filename in os.listdir(expression_folder):\n",
    "                img_path = os.path.join(expression_folder, filename)\n",
    "                img = cv2.imread(img_path)  # Read the image\n",
    "                gray = cv2.cvtColor(img, cv2.COLOR_BGR2GRAY)  # Convert to grayscale for face detection\n",
    "\n",
    "                # Detect faces in the image\n",
    "                faces = face_cascade.detectMultiScale(gray, scaleFactor=1.1, minNeighbors=5, minSize=(30, 30))\n",
    "\n",
    "                if len(faces) == 0:\n",
    "                    continue\n",
    "\n",
    "                x, y, w, h = faces[0]\n",
    "\n",
    "                # Crop the face and resize to the desired size\n",
    "                face_img = img[y:y+h, x:x+w]\n",
    "                face_img = cv2.resize(face_img, (img_height, img_width))  # Resize to match network input size\n",
    "                face_img = cv2.cvtColor(face_img, cv2.COLOR_BGR2GRAY)  # Convert the cropped face to grayscale\n",
    "                face_img = np.expand_dims(face_img, axis=-1)  # Add channel dimension (grayscale -> shape (48, 48, fer))\n",
    "\n",
    "                images.append(face_img)\n",
    "                labels.append(label)\n",
    "\n",
    "        images = np.array(images, dtype=\"float32\") / 255.0  # Normalize the images to [0, fer]\n",
    "        labels = np.array(labels)\n",
    "        return images, labels\n",
    "\n",
    "    # Load training and testing data\n",
    "    X_train, y_train = load_images(train_dir)\n",
    "    X_test, y_test = load_images(test_dir)\n",
    "\n",
    "    return X_train, y_train, X_test, y_test\n"
   ],
   "id": "9acc0978ac36272f",
   "outputs": [],
   "execution_count": 3
  },
  {
   "metadata": {
    "ExecuteTime": {
     "end_time": "2025-03-02T13:12:08.497748Z",
     "start_time": "2025-03-02T13:11:47.412923Z"
    }
   },
   "cell_type": "code",
   "source": [
    "# Paths to the JAFFE dataset directories (train and test directories)\n",
    "train_dir = 'datasets/1/train'\n",
    "test_dir = 'datasets/1/test'\n",
    "\n",
    "# Load dataset\n",
    "X_train, y_train, X_test, y_test = load_dataset(train_dir, test_dir)\n",
    "\n",
    "# Check shape of the data to confirm it is correct\n",
    "print(\"Training data shape:\", X_train.shape)\n",
    "print(\"Test data shape:\", X_test.shape)"
   ],
   "id": "16c3db1d0e4acebe",
   "outputs": [
    {
     "name": "stdout",
     "output_type": "stream",
     "text": [
      "Training data shape: (4995, 48, 48, 1)\n",
      "Test data shape: (115, 48, 48, 1)\n"
     ]
    }
   ],
   "execution_count": 13
  },
  {
   "metadata": {
    "ExecuteTime": {
     "end_time": "2025-03-02T13:12:11.688726Z",
     "start_time": "2025-03-02T13:12:11.141443Z"
    }
   },
   "cell_type": "code",
   "source": [
    "# CNN Model\n",
    "model = models.Sequential([\n",
    "    layers.Conv2D(32, (3, 3), activation='relu', input_shape=(img_height, img_width, 1)),\n",
    "    layers.MaxPooling2D((2, 2)),\n",
    "    layers.Conv2D(64, (3, 3), activation='relu'),\n",
    "    layers.MaxPooling2D((2, 2)),\n",
    "    layers.Conv2D(128, (3, 3), activation='relu'),\n",
    "    layers.MaxPooling2D((2, 2)),\n",
    "    layers.Flatten(),\n",
    "    layers.Dense(128, activation='relu'),\n",
    "    layers.Dropout(0.5),\n",
    "    layers.Dense(6, activation='softmax')  # 7 emotion classes\n",
    "])"
   ],
   "id": "4e4d650c7c2162ea",
   "outputs": [
    {
     "name": "stderr",
     "output_type": "stream",
     "text": [
      "C:\\Users\\untitled1\\Lib\\site-packages\\keras\\src\\layers\\convolutional\\base_conv.py:107: UserWarning: Do not pass an `input_shape`/`input_dim` argument to a layer. When using Sequential models, prefer using an `Input(shape)` object as the first layer in the model instead.\n",
      "  super().__init__(activity_regularizer=activity_regularizer, **kwargs)\n"
     ]
    }
   ],
   "execution_count": 14
  },
  {
   "metadata": {
    "ExecuteTime": {
     "end_time": "2025-03-02T13:13:54.062557Z",
     "start_time": "2025-03-02T13:12:15.045305Z"
    }
   },
   "cell_type": "code",
   "source": [
    "# Compile the model\n",
    "model.compile(optimizer='adam', loss='sparse_categorical_crossentropy', metrics=['accuracy'])\n",
    "\n",
    "# Train the model\n",
    "model.fit(X_train, y_train, epochs=20, batch_size=32, validation_data=(X_test, y_test))\n",
    "\n",
    "# Evaluate the model\n",
    "loss, accuracy = model.evaluate(X_test, y_test)\n",
    "print(f\"Test accuracy: {accuracy*100:.2f}%\")\n",
    "\n",
    "# Save the model\n",
    "model.save('face_expression_model.h5')  # Save as H5 model"
   ],
   "id": "59b1473f11535c4f",
   "outputs": [
    {
     "name": "stdout",
     "output_type": "stream",
     "text": [
      "Epoch 1/20\n",
      "\u001B[1m157/157\u001B[0m \u001B[32m━━━━━━━━━━━━━━━━━━━━\u001B[0m\u001B[37m\u001B[0m \u001B[1m9s\u001B[0m 31ms/step - accuracy: 0.3672 - loss: 1.4089 - val_accuracy: 0.3304 - val_loss: 1.4055\n",
      "Epoch 2/20\n",
      "\u001B[1m157/157\u001B[0m \u001B[32m━━━━━━━━━━━━━━━━━━━━\u001B[0m\u001B[37m\u001B[0m \u001B[1m5s\u001B[0m 29ms/step - accuracy: 0.4314 - loss: 1.2613 - val_accuracy: 0.5217 - val_loss: 1.2498\n",
      "Epoch 3/20\n",
      "\u001B[1m157/157\u001B[0m \u001B[32m━━━━━━━━━━━━━━━━━━━━\u001B[0m\u001B[37m\u001B[0m \u001B[1m4s\u001B[0m 28ms/step - accuracy: 0.5943 - loss: 1.0439 - val_accuracy: 0.5478 - val_loss: 0.9808\n",
      "Epoch 4/20\n",
      "\u001B[1m157/157\u001B[0m \u001B[32m━━━━━━━━━━━━━━━━━━━━\u001B[0m\u001B[37m\u001B[0m \u001B[1m4s\u001B[0m 28ms/step - accuracy: 0.6490 - loss: 0.9249 - val_accuracy: 0.5826 - val_loss: 0.9302\n",
      "Epoch 5/20\n",
      "\u001B[1m157/157\u001B[0m \u001B[32m━━━━━━━━━━━━━━━━━━━━\u001B[0m\u001B[37m\u001B[0m \u001B[1m4s\u001B[0m 28ms/step - accuracy: 0.6767 - loss: 0.8898 - val_accuracy: 0.5652 - val_loss: 1.0122\n",
      "Epoch 6/20\n",
      "\u001B[1m157/157\u001B[0m \u001B[32m━━━━━━━━━━━━━━━━━━━━\u001B[0m\u001B[37m\u001B[0m \u001B[1m5s\u001B[0m 28ms/step - accuracy: 0.6860 - loss: 0.8258 - val_accuracy: 0.6174 - val_loss: 0.9514\n",
      "Epoch 7/20\n",
      "\u001B[1m157/157\u001B[0m \u001B[32m━━━━━━━━━━━━━━━━━━━━\u001B[0m\u001B[37m\u001B[0m \u001B[1m5s\u001B[0m 30ms/step - accuracy: 0.7082 - loss: 0.7966 - val_accuracy: 0.6522 - val_loss: 0.9257\n",
      "Epoch 8/20\n",
      "\u001B[1m157/157\u001B[0m \u001B[32m━━━━━━━━━━━━━━━━━━━━\u001B[0m\u001B[37m\u001B[0m \u001B[1m5s\u001B[0m 31ms/step - accuracy: 0.7060 - loss: 0.7738 - val_accuracy: 0.6696 - val_loss: 0.7817\n",
      "Epoch 9/20\n",
      "\u001B[1m157/157\u001B[0m \u001B[32m━━━━━━━━━━━━━━━━━━━━\u001B[0m\u001B[37m\u001B[0m \u001B[1m5s\u001B[0m 31ms/step - accuracy: 0.7333 - loss: 0.7156 - val_accuracy: 0.7130 - val_loss: 0.7737\n",
      "Epoch 10/20\n",
      "\u001B[1m157/157\u001B[0m \u001B[32m━━━━━━━━━━━━━━━━━━━━\u001B[0m\u001B[37m\u001B[0m \u001B[1m5s\u001B[0m 30ms/step - accuracy: 0.7470 - loss: 0.6642 - val_accuracy: 0.6870 - val_loss: 0.8055\n",
      "Epoch 11/20\n",
      "\u001B[1m157/157\u001B[0m \u001B[32m━━━━━━━━━━━━━━━━━━━━\u001B[0m\u001B[37m\u001B[0m \u001B[1m5s\u001B[0m 30ms/step - accuracy: 0.7710 - loss: 0.6325 - val_accuracy: 0.7043 - val_loss: 0.8730\n",
      "Epoch 12/20\n",
      "\u001B[1m157/157\u001B[0m \u001B[32m━━━━━━━━━━━━━━━━━━━━\u001B[0m\u001B[37m\u001B[0m \u001B[1m5s\u001B[0m 32ms/step - accuracy: 0.7684 - loss: 0.6156 - val_accuracy: 0.6870 - val_loss: 0.8862\n",
      "Epoch 13/20\n",
      "\u001B[1m157/157\u001B[0m \u001B[32m━━━━━━━━━━━━━━━━━━━━\u001B[0m\u001B[37m\u001B[0m \u001B[1m5s\u001B[0m 30ms/step - accuracy: 0.7857 - loss: 0.5602 - val_accuracy: 0.7043 - val_loss: 0.8852\n",
      "Epoch 14/20\n",
      "\u001B[1m157/157\u001B[0m \u001B[32m━━━━━━━━━━━━━━━━━━━━\u001B[0m\u001B[37m\u001B[0m \u001B[1m5s\u001B[0m 30ms/step - accuracy: 0.7919 - loss: 0.5526 - val_accuracy: 0.7130 - val_loss: 0.8708\n",
      "Epoch 15/20\n",
      "\u001B[1m157/157\u001B[0m \u001B[32m━━━━━━━━━━━━━━━━━━━━\u001B[0m\u001B[37m\u001B[0m \u001B[1m5s\u001B[0m 30ms/step - accuracy: 0.7934 - loss: 0.5308 - val_accuracy: 0.7043 - val_loss: 0.8182\n",
      "Epoch 16/20\n",
      "\u001B[1m157/157\u001B[0m \u001B[32m━━━━━━━━━━━━━━━━━━━━\u001B[0m\u001B[37m\u001B[0m \u001B[1m5s\u001B[0m 29ms/step - accuracy: 0.8174 - loss: 0.4732 - val_accuracy: 0.7130 - val_loss: 0.8027\n",
      "Epoch 17/20\n",
      "\u001B[1m157/157\u001B[0m \u001B[32m━━━━━━━━━━━━━━━━━━━━\u001B[0m\u001B[37m\u001B[0m \u001B[1m4s\u001B[0m 28ms/step - accuracy: 0.8261 - loss: 0.4661 - val_accuracy: 0.7304 - val_loss: 0.8182\n",
      "Epoch 18/20\n",
      "\u001B[1m157/157\u001B[0m \u001B[32m━━━━━━━━━━━━━━━━━━━━\u001B[0m\u001B[37m\u001B[0m \u001B[1m5s\u001B[0m 28ms/step - accuracy: 0.8362 - loss: 0.4369 - val_accuracy: 0.7130 - val_loss: 0.8615\n",
      "Epoch 19/20\n",
      "\u001B[1m157/157\u001B[0m \u001B[32m━━━━━━━━━━━━━━━━━━━━\u001B[0m\u001B[37m\u001B[0m \u001B[1m5s\u001B[0m 29ms/step - accuracy: 0.8386 - loss: 0.4124 - val_accuracy: 0.7565 - val_loss: 0.9561\n",
      "Epoch 20/20\n",
      "\u001B[1m157/157\u001B[0m \u001B[32m━━━━━━━━━━━━━━━━━━━━\u001B[0m\u001B[37m\u001B[0m \u001B[1m5s\u001B[0m 32ms/step - accuracy: 0.8603 - loss: 0.3771 - val_accuracy: 0.7217 - val_loss: 1.0839\n",
      "\u001B[1m4/4\u001B[0m \u001B[32m━━━━━━━━━━━━━━━━━━━━\u001B[0m\u001B[37m\u001B[0m \u001B[1m0s\u001B[0m 27ms/step - accuracy: 0.6772 - loss: 1.1026\n"
     ]
    },
    {
     "name": "stderr",
     "output_type": "stream",
     "text": [
      "WARNING:absl:You are saving your model as an HDF5 file via `model.save()` or `keras.saving.save_model(model)`. This file format is considered legacy. We recommend using instead the native Keras format, e.g. `model.save('my_model.keras')` or `keras.saving.save_model(model, 'my_model.keras')`. \n"
     ]
    },
    {
     "name": "stdout",
     "output_type": "stream",
     "text": [
      "Test accuracy: 72.17%\n"
     ]
    }
   ],
   "execution_count": 15
  },
  {
   "metadata": {
    "ExecuteTime": {
     "end_time": "2025-03-02T13:15:41.966677Z",
     "start_time": "2025-03-02T13:15:41.081378Z"
    }
   },
   "cell_type": "code",
   "source": [
    "\n",
    "\n",
    "# Predict on the test set\n",
    "y_pred = model.predict(X_test)\n",
    "y_pred = np.argmax(y_pred, axis=1)  # Get class with highest probability\n",
    "\n",
    "# Confusion Matrix\n",
    "cm = confusion_matrix(y_test, y_pred)\n",
    "\n",
    "# Plot confusion matrix\n",
    "plt.figure(figsize=(8, 6))\n",
    "sns.heatmap(cm, annot=True, fmt=\"d\", cmap=\"Blues\", xticklabels=['anger', 'fear', 'happy', 'neutral', 'sadness', 'surprise'],\n",
    "            yticklabels=['anger', 'fear', 'happy', 'neutral', 'sadness', 'surprise'])\n",
    "plt.xlabel('Predicted')\n",
    "plt.ylabel('True')\n",
    "plt.title('Confusion Matrix')\n",
    "plt.show()\n"
   ],
   "id": "8551837ce335536c",
   "outputs": [
    {
     "name": "stdout",
     "output_type": "stream",
     "text": [
      "\u001B[1m4/4\u001B[0m \u001B[32m━━━━━━━━━━━━━━━━━━━━\u001B[0m\u001B[37m\u001B[0m \u001B[1m0s\u001B[0m 67ms/step\n"
     ]
    },
    {
     "data": {
      "text/plain": [
       "<Figure size 800x600 with 2 Axes>"
      ],
      "image/png": "[encoded data removed]"
     },
     "metadata": {},
     "output_type": "display_data"
    }
   ],
   "execution_count": 21
  },
  {
   "metadata": {
    "ExecuteTime": {
     "end_time": "2025-03-02T13:14:48.329875Z",
     "start_time": "2025-03-02T13:14:47.983678Z"
    }
   },
   "cell_type": "code",
   "source": [
    "\n",
    "# Load the trained model\n",
    "model = tf.keras.models.load_model('face_expression_model.h5')\n",
    "\n",
    "# Set image dimensions (ensure these match the model's input size)\n",
    "img_height, img_width = 48, 48\n",
    "\n",
    "# Dictionary of expression labels\n",
    "expressions = ['anger', 'fear', 'happy', 'neutral', 'sadness', 'surprise']  # 6 emotion classes\n",
    "\n",
    "# Function to preprocess the image for prediction\n",
    "def preprocess_image(img_path):\n",
    "    img = cv2.imread(img_path, cv2.IMREAD_GRAYSCALE)  # Read as grayscale\n",
    "    img = cv2.resize(img, (img_height, img_width))  # Resize to match the network input size\n",
    "    img = np.expand_dims(img, axis=-1)  # Add channel dimension (grayscale -> shape (48, 48, fer))\n",
    "    img = np.expand_dims(img, axis=0)  # Add batch dimension (shape (fer, 48, 48, fer))\n",
    "    img = img.astype(\"float32\") / 255.0  # Normalize the image to [0, fer]\n",
    "    return img\n",
    "\n",
    "# Path to the single image you want to test\n",
    "img_path = 'datasets/1/train/angry/Training_3908.jpg'  # Replace with the image path\n",
    "\n",
    "# Preprocess the image\n",
    "img = preprocess_image(img_path)\n",
    "\n",
    "# Get the model's prediction\n",
    "prediction = model.predict(img)\n",
    "\n",
    "# Get the class with the highest probability\n",
    "predicted_class = np.argmax(prediction, axis=1)\n",
    "\n",
    "# Print the predicted emotion\n",
    "predicted_emotion = expressions[predicted_class[0]]\n",
    "print(f\"Predicted emotion: {predicted_emotion}\")\n"
   ],
   "id": "8ed8aa5085155382",
   "outputs": [
    {
     "name": "stderr",
     "output_type": "stream",
     "text": [
      "WARNING:absl:Compiled the loaded model, but the compiled metrics have yet to be built. `model.compile_metrics` will be empty until you train or evaluate the model.\n"
     ]
    },
    {
     "name": "stdout",
     "output_type": "stream",
     "text": [
      "\u001B[1m1/1\u001B[0m \u001B[32m━━━━━━━━━━━━━━━━━━━━\u001B[0m\u001B[37m\u001B[0m \u001B[1m0s\u001B[0m 142ms/step\n",
      "Predicted emotion: fear\n"
     ]
    }
   ],
   "execution_count": 19
  },
  {
   "metadata": {
    "ExecuteTime": {
     "end_time": "2025-03-02T13:15:00.079378Z",
     "start_time": "2025-03-02T13:14:59.363945Z"
    }
   },
   "cell_type": "code",
   "source": [
    "\n",
    "# Load the trained model\n",
    "model = tf.keras.models.load_model('face_expression_model.h5')\n",
    "\n",
    "# Set image dimensions\n",
    "img_height, img_width = 48, 48\n",
    "\n",
    "# Dictionary of expression labels\n",
    "expressions = ['anger', 'fear', 'happy', 'neutral', 'sadness', 'surprise']\n",
    "\n",
    "# Load OpenCV's Haar cascade for face detection\n",
    "face_cascade = cv2.CascadeClassifier(cv2.data.haarcascades + 'haarcascade_frontalface_default.xml')\n",
    "\n",
    "# Function to preprocess the face for prediction\n",
    "def preprocess_face(face):\n",
    "    face_resized = cv2.resize(face, (img_height, img_width))  # Resize\n",
    "    face_resized = np.expand_dims(face_resized, axis=-1)  # Add channel dimension\n",
    "    face_resized = np.expand_dims(face_resized, axis=0)  # Add batch dimension\n",
    "    face_resized = face_resized.astype(\"float32\") / 255.0  # Normalize\n",
    "    return face_resized\n",
    "\n",
    "# Path to the test image\n",
    "# img_path = '/content/drive/My Drive/FER-testingimages/0.jpg'\n",
    "img_path = 'datasets/1/train/angry/Training_3908.jpg'\n",
    "# img_path = '/content/drive/My Drive/FER-testingimages/test.png'\n",
    "# img_path = '/content/drive/My Drive/FER-testingimages/test-2.png'\n",
    "# img_path = '/content/drive/My Drive/FER-testingimages/faces-2.jpg'\n",
    "# img_path = '/content/drive/My Drive/FER-testingimages/Newtest.jpg'\n",
    "\n",
    "\n",
    "# Read the original image\n",
    "original_img = cv2.imread(img_path)\n",
    "gray_img = cv2.cvtColor(original_img, cv2.COLOR_BGR2GRAY)  # Convert to grayscale\n",
    "\n",
    "# Detect faces in the image\n",
    "faces = face_cascade.detectMultiScale(gray_img, scaleFactor=1.3, minNeighbors=5)\n",
    "\n",
    "# Create copies of the image to draw bounding boxes\n",
    "face_detected_img = original_img.copy()\n",
    "final_img = original_img.copy()\n",
    "\n",
    "# Iterate through detected faces\n",
    "for (x, y, w, h) in faces:\n",
    "    face = gray_img[y:y+h, x:x+w]  # Extract face ROI\n",
    "    processed_face = preprocess_face(face)  # Preprocess the face for the model\n",
    "\n",
    "    # Get prediction\n",
    "    prediction = model.predict(processed_face)\n",
    "    predicted_class = np.argmax(prediction, axis=1)\n",
    "    predicted_emotion = expressions[predicted_class[0]]\n",
    "\n",
    "    # Draw bounding box on face detection image\n",
    "    cv2.rectangle(face_detected_img, (x, y), (x + w, y + h), (255, 0, 0), 2)\n",
    "\n",
    "    # Draw bounding box on final image\n",
    "    cv2.rectangle(final_img, (x, y), (x + w, y + h), (0, 255, 0), 2)\n",
    "\n",
    "    # Create a filled rectangle behind the text\n",
    "    label_bg_color = (0, 255, 0)  # Green background\n",
    "    text_color = (0, 0, 0)  # White text\n",
    "    font = cv2.FONT_HERSHEY_SIMPLEX\n",
    "    font_scale = 0.6\n",
    "    font_thickness = 2\n",
    "\n",
    "    # Get text size to draw background rectangle\n",
    "    (text_width, text_height), _ = cv2.getTextSize(predicted_emotion, font, font_scale, font_thickness)\n",
    "    label_x1, label_y1 = x, y  # Top-left corner of the bounding box\n",
    "    label_x2, label_y2 = x + text_width + 10, y + text_height + 10  # Bottom-right corner for background\n",
    "\n",
    "    # Draw the background rectangle\n",
    "    cv2.rectangle(final_img, (label_x1, label_y1), (label_x2, label_y2), label_bg_color, -1)\n",
    "\n",
    "    # Put the emotion label text inside the bounding box\n",
    "    cv2.putText(final_img, predicted_emotion, (x + 5, y + text_height + 2), font,\n",
    "                font_scale, text_color, font_thickness, cv2.LINE_AA)\n",
    "\n",
    "# Convert BGR images to RGB for Matplotlib display\n",
    "original_img_rgb = cv2.cvtColor(original_img, cv2.COLOR_BGR2RGB)\n",
    "face_detected_img_rgb = cv2.cvtColor(face_detected_img, cv2.COLOR_BGR2RGB)\n",
    "final_img_rgb = cv2.cvtColor(final_img, cv2.COLOR_BGR2RGB)\n",
    "\n",
    "# Display all three images using matplotlib\n",
    "fig, axes = plt.subplots(1, 3, figsize=(15, 5))\n",
    "axes[0].imshow(original_img_rgb)\n",
    "axes[0].set_title(\"Original Image\")\n",
    "axes[0].axis(\"off\")\n",
    "\n",
    "axes[1].imshow(face_detected_img_rgb)\n",
    "axes[1].set_title(\"Image \")\n",
    "axes[1].axis(\"off\")\n",
    "\n",
    "axes[2].imshow(final_img_rgb)\n",
    "axes[2].set_title(\"Final Image with Emotion\")\n",
    "axes[2].axis(\"off\")\n",
    "\n",
    "plt.show()  # Show the images side by side\n"
   ],
   "id": "5716ba96e760a1d9",
   "outputs": [
    {
     "name": "stderr",
     "output_type": "stream",
     "text": [
      "WARNING:absl:Compiled the loaded model, but the compiled metrics have yet to be built. `model.compile_metrics` will be empty until you train or evaluate the model.\n"
     ]
    },
    {
     "data": {
      "text/plain": [
       "<Figure size 1500x500 with 3 Axes>"
      ],
      "image/png": "[encoded data removed]"
     },
     "metadata": {},
     "output_type": "display_data"
    }
   ],
   "execution_count": 20
  }
 ],
 "metadata": {
  "kernelspec": {
   "display_name": "Python 3",
   "language": "python",
   "name": "python3"
  },
  "language_info": {
   "codemirror_mode": {
    "name": "ipython",
    "version": 2
   },
   "file_extension": ".py",
   "mimetype": "text/x-python",
   "name": "python",
   "nbconvert_exporter": "python",
   "pygments_lexer": "ipython2",
   "version": "2.7.6"
  }
 },
 "nbformat": 4,
 "nbformat_minor": 5
}
